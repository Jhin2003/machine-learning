{
  "nbformat": 4,
  "nbformat_minor": 0,
  "metadata": {
    "celltoolbar": "Slideshow",
    "colab": {
      "name": "NU CCMACLRL - Intro to Perceptron and Neural Networks.ipynb",
      "provenance": [],
      "collapsed_sections": []
    },
    "kernelspec": {
      "name": "python3",
      "display_name": "Python 3"
    },
    "rise": {
      "controlsTutorial": false,
      "height": 900,
      "help": false,
      "margin": 0,
      "maxScale": 2,
      "minScale": 0.2,
      "progress": true,
      "scroll": true,
      "theme": "simple",
      "width": 1200
    },
    "language_info": {
      "name": "python"
    }
  },
  "cells": [
    {
      "cell_type": "markdown",
      "metadata": {
        "id": "i_f5u2x9nn6I"
      },
      "source": [
        "Credits: Volodymyr Kuleshov, Jin Sun <br>Cornell Tech"
      ]
    },
    {
      "cell_type": "code",
      "metadata": {
        "colab": {
          "base_uri": "https://localhost:8080/"
        },
        "id": "fv-_MltuUtjf",
        "outputId": "e1a1b6cf-190b-46f3-b293-6f245e3b3622"
      },
      "source": [
        "pip install scikit-learn==0.23"
      ],
      "execution_count": null,
      "outputs": [
        {
          "output_type": "stream",
          "name": "stdout",
          "text": [
            "Collecting scikit-learn==0.23\n",
            "  Downloading scikit_learn-0.23.0-cp37-cp37m-manylinux1_x86_64.whl (7.3 MB)\n",
            "\u001b[K     |████████████████████████████████| 7.3 MB 7.0 MB/s \n",
            "\u001b[?25hCollecting threadpoolctl>=2.0.0\n",
            "  Downloading threadpoolctl-3.0.0-py3-none-any.whl (14 kB)\n",
            "Requirement already satisfied: scipy>=0.19.1 in /usr/local/lib/python3.7/dist-packages (from scikit-learn==0.23) (1.4.1)\n",
            "Requirement already satisfied: joblib>=0.11 in /usr/local/lib/python3.7/dist-packages (from scikit-learn==0.23) (1.0.1)\n",
            "Requirement already satisfied: numpy>=1.13.3 in /usr/local/lib/python3.7/dist-packages (from scikit-learn==0.23) (1.19.5)\n",
            "Installing collected packages: threadpoolctl, scikit-learn\n",
            "  Attempting uninstall: scikit-learn\n",
            "    Found existing installation: scikit-learn 0.22.2.post1\n",
            "    Uninstalling scikit-learn-0.22.2.post1:\n",
            "      Successfully uninstalled scikit-learn-0.22.2.post1\n",
            "Successfully installed scikit-learn-0.23.0 threadpoolctl-3.0.0\n"
          ]
        }
      ]
    },
    {
      "cell_type": "code",
      "metadata": {
        "id": "OvlnAscgUYZf"
      },
      "source": [
        "import matplotlib.pyplot as plt\n",
        "import numpy as np"
      ],
      "execution_count": null,
      "outputs": []
    },
    {
      "cell_type": "markdown",
      "metadata": {
        "id": "UrJd1OlcStP5"
      },
      "source": [
        "An Artifical Neuron\n",
        "\n",
        "In this lecture, we will learn about a new class of machine learning algorithms inspired by the brain.\n",
        "\n",
        "We will start by defining a few building blocks for these algorithms, and draw connections to neuroscience."
      ]
    },
    {
      "cell_type": "markdown",
      "metadata": {
        "id": "r-wNz-CDStP6"
      },
      "source": [
        "# Review: Components of A Supervised Machine Learning Problem\n",
        "\n",
        "At a high level, a supervised machine learning problem has the following structure:\n",
        "\n",
        "$$ \\underbrace{\\text{Training Dataset}}_\\text{Attributes + Features} + \\underbrace{\\text{Learning Algorithm}}_\\text{Model Class + Objective + Optimizer } \\to \\text{Predictive Model} $$"
      ]
    },
    {
      "cell_type": "markdown",
      "metadata": {
        "id": "NuWLu91rStP7"
      },
      "source": [
        "# Review: Binary Classification\n",
        "\n",
        "In supervised learning, we fit a model of the form\n",
        "$$ f : \\mathcal{X} \\to \\mathcal{Y} $$\n",
        "that maps inputs $x \\in \\mathcal{X}$ to targets $y \\in \\mathcal{Y}$."
      ]
    },
    {
      "cell_type": "markdown",
      "metadata": {
        "id": "gqpv2KNpStP8"
      },
      "source": [
        "In classification, the space of targets $\\mathcal{Y}$ is *discrete*. Classification is binary if $\\mathcal{Y} = \\{0,1\\}$"
      ]
    },
    {
      "cell_type": "markdown",
      "metadata": {
        "id": "rsmvSV5cStP8"
      },
      "source": [
        "# Review: Logistic Regression\n",
        "\n",
        "Logistic regression fits a model of the form\n",
        "$$ f(x) = \\sigma(\\theta^\\top x) = \\frac{1}{1 + \\exp(-\\theta^\\top x)}, $$\n",
        "where\n",
        "$$ \\sigma(z) = \\frac{1}{1 + \\exp(-z)} $$\n",
        "is known as the *sigmoid* or *logistic* function."
      ]
    },
    {
      "cell_type": "markdown",
      "metadata": {
        "id": "cyo3kcznStP9"
      },
      "source": [
        "# A Biological Neuron\n",
        "\n",
        "In order to define an artifical neuron, let's look first at a biological one.\n",
        "\n",
        "<center>\n",
        "<img width=30% src=\"https://upload.wikimedia.org/wikipedia/commons/1/10/Blausen_0657_MultipolarNeuron.png\">\n",
        "</center>\n",
        "\n",
        "* Each neuron receives input signals from its dendrites\n",
        "* If input signals are strong enough, neuron fires output along its axon, which connects to the dendrites of other neurons."
      ]
    },
    {
      "cell_type": "markdown",
      "metadata": {
        "id": "CdoJxz-xStP-"
      },
      "source": [
        "# An Artificial Neuron: Example\n",
        "\n",
        "We can imitate this machinery using an idealized artifical neuron.\n",
        "* Dendrite $j$ gets signal $x_j$; modulates multiplicatively to $w_j \\cdot x_j$.\n",
        "* The body of the neuron sums the modulated inputs: $\\sum_{j=1}^d w_j \\cdot x_j$.\n",
        "* These go into the activation function that produces an ouput.\n",
        "<center>\n",
        "<img width=\"55%\" src=\"https://miro.medium.com/max/800/0*XVTzs5PHRzX5Vuyc\">\n",
        "</center>"
      ]
    },
    {
      "cell_type": "markdown",
      "metadata": {
        "id": "Mp0hInHWStP_"
      },
      "source": [
        "# An Artificial Neuron: Notation\n",
        "\n",
        "More formally, we say that a neuron is a model $f : \\mathbb{R}^d \\to [0,1]$, with the following components:\n",
        "* Inputs $x_1,x_2,...,x_d$, denoted by a vector $x$.\n",
        "* Weight vector $w \\in \\mathbb{R}^d$ that modulates input $x$ as $w^\\top x$.\n",
        "* An activation function $\\sigma: \\mathbb{R} \\to \\mathbb{R}$ that computes the output $\\sigma(w^\\top x)$ of the neuron based on the sum of modulated features $w^\\top x$."
      ]
    },
    {
      "cell_type": "markdown",
      "metadata": {
        "id": "wLoM32dMStP_"
      },
      "source": [
        "# Perceptron\n",
        "\n",
        "If we use a step function as the activation function, we obtain the classic Perceptron model:\n",
        "\n",
        "$$ f(x) = \n",
        "\\begin{cases}\n",
        "  1 & \\text{if $\\theta^\\top x>0$}, \\\\\n",
        "  0 & \\text{otherwise}\n",
        "\\end{cases}\n",
        "$$\n",
        "\n",
        "This models a neuron that fires if the inputs are sufficiently large, and doesn't otherwise."
      ]
    },
    {
      "cell_type": "markdown",
      "metadata": {
        "id": "THJB9m1QStQA"
      },
      "source": [
        "We can visualize the activation function of the Perceptron."
      ]
    },
    {
      "cell_type": "code",
      "metadata": {
        "colab": {
          "base_uri": "https://localhost:8080/",
          "height": 282
        },
        "id": "A43IXI4TStQB",
        "outputId": "2fcf460d-23f6-463e-ef0f-bebe040cd15c"
      },
      "source": [
        "z = np.linspace(-5, 5)\n",
        "step_fn = lambda z: 1 if z > 0 else 0\n",
        "plt.plot(z, [step_fn(zi) for zi in z])"
      ],
      "execution_count": null,
      "outputs": [
        {
          "output_type": "execute_result",
          "data": {
            "text/plain": [
              "[<matplotlib.lines.Line2D at 0x7f1005320350>]"
            ]
          },
          "metadata": {},
          "execution_count": 3
        },
        {
          "output_type": "display_data",
          "data": {
            "image/png": "[encoded data removed]",
            "text/plain": [
              "<Figure size 432x288 with 1 Axes>"
            ]
          },
          "metadata": {
            "needs_background": "light"
          }
        }
      ]
    },
    {
      "cell_type": "markdown",
      "metadata": {
        "id": "5ZUXbIjdStQC"
      },
      "source": [
        "# Logistic Regression as an Artifical Neuron\n",
        "\n",
        "Logistic regression is a model of the form\n",
        "$$ f(x) = \\sigma(\\theta^\\top x) = \\frac{1}{1 + \\exp(-\\theta^\\top x)}, $$\n",
        "that can be interpreted as a neuron that uses the *sigmoid* as the activation function."
      ]
    },
    {
      "cell_type": "markdown",
      "metadata": {
        "id": "ICtH9XCSStQD"
      },
      "source": [
        "The sigmoid activation function encodes the idea of a neuron firing if the inputs exceed a threshold, makes make the activation function \"smooth\"."
      ]
    },
    {
      "cell_type": "code",
      "metadata": {
        "colab": {
          "base_uri": "https://localhost:8080/",
          "height": 282
        },
        "id": "AYyxmgHSStQD",
        "outputId": "2b511280-3a46-4435-e85a-ad1e637a963f"
      },
      "source": [
        "z = np.linspace(-5, 5)\n",
        "sigma = 1/(1+np.exp(-z))\n",
        "\n",
        "plt.plot(z, sigma)"
      ],
      "execution_count": null,
      "outputs": [
        {
          "output_type": "execute_result",
          "data": {
            "text/plain": [
              "[<matplotlib.lines.Line2D at 0x7f10052a02d0>]"
            ]
          },
          "metadata": {},
          "execution_count": 4
        },
        {
          "output_type": "display_data",
          "data": {
            "image/png": "[encoded data removed]",
            "text/plain": [
              "<Figure size 432x288 with 1 Axes>"
            ]
          },
          "metadata": {
            "needs_background": "light"
          }
        }
      ]
    },
    {
      "cell_type": "markdown",
      "metadata": {
        "id": "Q_-GFJn-StQD"
      },
      "source": [
        "# Activation Functions\n",
        "\n",
        "There are many other activation functions that can be used. In practice, these two work better than the sigmoid:\n",
        "* Hyperbolic tangent (`tanh`): $\\sigma(z) = \\tanh(z)$\n",
        "* Rectified linear unit (`ReLU`): $\\sigma(z) = \\max(0, z)$\n",
        "<!-- * Leaky `ReLU`: $$\\sigma(z) = \\max(\\alpha z, z),$$ where $\\alpha$ is a small constant such as 0.1. -->\n",
        "\n",
        "We can easily visualize these."
      ]
    },
    {
      "cell_type": "code",
      "metadata": {
        "colab": {
          "base_uri": "https://localhost:8080/",
          "height": 282
        },
        "id": "BKN0Zv3bStQE",
        "outputId": "93f49fe7-a4bd-416d-8fa1-dc15209390fd"
      },
      "source": [
        "%matplotlib inline\n",
        "import matplotlib.pyplot as plt\n",
        "plt.rcParams['figure.figsize'] = [12, 4]\n",
        "\n",
        "plt.subplot(121)\n",
        "plt.plot(z, np.tanh(z))\n",
        "plt.subplot(122)\n",
        "plt.plot(z, np.maximum(z, 0))"
      ],
      "execution_count": null,
      "outputs": [
        {
          "output_type": "execute_result",
          "data": {
            "text/plain": [
              "[<matplotlib.lines.Line2D at 0x7f1004d25790>]"
            ]
          },
          "metadata": {},
          "execution_count": 5
        },
        {
          "output_type": "display_data",
          "data": {
            "image/png": "[encoded data removed]",
            "text/plain": [
              "<Figure size 864x288 with 2 Axes>"
            ]
          },
          "metadata": {
            "needs_background": "light"
          }
        }
      ]
    },
    {
      "cell_type": "markdown",
      "metadata": {
        "id": "X9LOpqXrStQE"
      },
      "source": [
        "# Classification Dataset: Iris Flowers\n",
        "\n",
        "To demonstrate classification algorithms, we are going to use the Iris flower dataset. \n",
        "\n",
        "We are going to define an artificial neuron for the binary classification problem (class-0 vs the rest)."
      ]
    },
    {
      "cell_type": "code",
      "metadata": {
        "id": "7VJglNt4StQE"
      },
      "source": [
        "# https://scikit-learn.org/stable/auto_examples/neighbors/plot_classification.html\n",
        "import pandas as pd\n",
        "from sklearn import datasets\n",
        "\n",
        "# Load the Iris dataset\n",
        "iris = datasets.load_iris(as_frame=True)\n",
        "iris_X, iris_y = iris.data, iris.target\n",
        "\n",
        "# rename class two to class one\n",
        "iris_y2 = iris_y.copy()\n",
        "iris_y2[iris_y2==2] = 1\n",
        "\n",
        "X = iris_X.to_numpy()[:,:2]\n",
        "Y = iris_y2"
      ],
      "execution_count": null,
      "outputs": []
    },
    {
      "cell_type": "markdown",
      "metadata": {
        "id": "cHsOOidFStQF"
      },
      "source": [
        "This is a visualization of the dataset."
      ]
    },
    {
      "cell_type": "code",
      "metadata": {
        "colab": {
          "base_uri": "https://localhost:8080/",
          "height": 299
        },
        "id": "pVDAAfpZStQF",
        "outputId": "56139c72-fcfe-4726-8015-025e7c380259"
      },
      "source": [
        "# Plot also the training points\n",
        "p1 = plt.scatter(X[:,0], X[:,1], c=iris_y2, edgecolor='k', s=60, cmap=plt.cm.Paired)\n",
        "plt.xlabel('Petal Length')\n",
        "plt.ylabel('Petal Width')\n",
        "plt.legend(handles=p1.legend_elements()[0], labels=['Setosa', 'Non-Setosa'], loc='lower right')"
      ],
      "execution_count": null,
      "outputs": [
        {
          "output_type": "execute_result",
          "data": {
            "text/plain": [
              "<matplotlib.legend.Legend at 0x7f1004db4790>"
            ]
          },
          "metadata": {},
          "execution_count": 7
        },
        {
          "output_type": "display_data",
          "data": {
            "image/png": "[encoded data removed]",
            "text/plain": [
              "<Figure size 864x288 with 1 Axes>"
            ]
          },
          "metadata": {
            "needs_background": "light"
          }
        }
      ]
    },
    {
      "cell_type": "markdown",
      "metadata": {
        "id": "DZZPWienStQF"
      },
      "source": [
        "Below, we define neuron with a sigmoid activation function (and its gradient)."
      ]
    },
    {
      "cell_type": "code",
      "metadata": {
        "id": "gvIhJVRbStQG"
      },
      "source": [
        "def neuron(X, theta):\n",
        "    activation_fn = lambda z: 1/(1+np.exp(-z))\n",
        "    return activation_fn(X.dot(theta))\n",
        "\n",
        "def gradient(theta, X, y):\n",
        "    return np.mean((y - neuron(X, theta)) * X.T, axis=1)"
      ],
      "execution_count": null,
      "outputs": []
    },
    {
      "cell_type": "markdown",
      "metadata": {
        "id": "ZlthI7d2StQG"
      },
      "source": [
        "We can optimize is using gradient descent."
      ]
    },
    {
      "cell_type": "code",
      "metadata": {
        "colab": {
          "base_uri": "https://localhost:8080/"
        },
        "id": "ivjowQ7aStQG",
        "outputId": "0ec222f0-5fe1-488c-806a-8178a9ffc3d9"
      },
      "source": [
        "threshold = 5e-5\n",
        "step_size = 1e-1\n",
        "\n",
        "iter, theta, theta_prev = 0, np.zeros((3,)), np.ones((3,))\n",
        "iris_X['one'] = 1 # add a vector of ones for the bias\n",
        "X_train = iris_X.iloc[:,[0,1,-1]].to_numpy()\n",
        "y_train = iris_y2.to_numpy()\n",
        "\n",
        "while np.linalg.norm(theta - theta_prev) > threshold:\n",
        "    if iter % 50000 == 0:\n",
        "        print('Iteration %d.' % iter)\n",
        "    theta_prev = theta\n",
        "    grad = gradient(theta, X_train, y_train)\n",
        "    theta = theta_prev + step_size * grad\n",
        "    iter += 1"
      ],
      "execution_count": null,
      "outputs": [
        {
          "output_type": "stream",
          "name": "stdout",
          "text": [
            "Iteration 0.\n",
            "Iteration 50000.\n",
            "Iteration 100000.\n",
            "Iteration 150000.\n",
            "Iteration 200000.\n"
          ]
        }
      ]
    },
    {
      "cell_type": "markdown",
      "metadata": {
        "id": "w3js_SIeStQG"
      },
      "source": [
        "This neuron learns a linear decision boundary that separates the data."
      ]
    },
    {
      "cell_type": "code",
      "metadata": {
        "colab": {
          "base_uri": "https://localhost:8080/",
          "height": 296
        },
        "id": "uUYumUmgStQH",
        "outputId": "baa6796a-3e82-4990-abdd-8f4d6d61c944"
      },
      "source": [
        "# generate predictions over a grid:\n",
        "xx, yy = np.meshgrid(np.arange(3.3, 8.9, 0.02), np.arange(1.0, 5.4, 0.02))\n",
        "Z = neuron(np.c_[xx.ravel(), yy.ravel(), np.ones(xx.ravel().shape)], theta)\n",
        "Z[Z<0.5] = 0\n",
        "Z[Z>=0.5] = 1\n",
        "\n",
        "# Put the result into a color plot\n",
        "Z = Z.reshape(xx.shape)\n",
        "plt.pcolormesh(xx, yy, Z, cmap=plt.cm.Paired)\n",
        "\n",
        "# Plot also the training points\n",
        "plt.scatter(X[:, 0], X[:, 1], c=Y, edgecolors='k', cmap=plt.cm.Paired)\n",
        "plt.xlabel('Sepal length')\n",
        "plt.ylabel('Sepal width')"
      ],
      "execution_count": null,
      "outputs": [
        {
          "output_type": "execute_result",
          "data": {
            "text/plain": [
              "Text(0, 0.5, 'Sepal width')"
            ]
          },
          "metadata": {},
          "execution_count": 10
        },
        {
          "output_type": "display_data",
          "data": {
            "image/png": "[encoded data removed]",
            "text/plain": [
              "<Figure size 864x288 with 1 Axes>"
            ]
          },
          "metadata": {
            "needs_background": "light"
          }
        }
      ]
    },
    {
      "cell_type": "markdown",
      "metadata": {
        "id": "VypYm4NmStQH"
      },
      "source": [
        "# Algorithm: Artificial Neuron\n",
        "\n",
        "* __Type__: Supervised learning (regression and classification).\n",
        "* __Model family__: Linear model followed by non-linear activation.\n",
        "* __Objective function__: Any differentiable objective.\n",
        "* __Optimizer__: Gradient descent.\n",
        "* __Special Cases__: Logistic regression, Perceptron"
      ]
    },
    {
      "cell_type": "markdown",
      "metadata": {
        "id": "De61FjO9StQH"
      },
      "source": [
        "\n",
        "# Part 2: Artificial Neural Networks\n",
        "\n",
        "Let's now see how we can connect neurons into networks that form complex models that further mimic the brain."
      ]
    },
    {
      "cell_type": "markdown",
      "metadata": {
        "id": "H9WIwoGzStQH"
      },
      "source": [
        "# Review: Artificial Neuron\n",
        "\n",
        "We say that a neuron is a model $f : \\mathbb{R}^d \\to [0,1]$, with the following components:\n",
        "* Inputs $x_1,x_2,...,x_d$, denoted by a vector $x$.\n",
        "* Weight vector $w \\in \\mathbb{R}^d$ that modulates input $x$ as $w^\\top x$.\n",
        "* An activation function $\\sigma: \\mathbb{R} \\to \\mathbb{R}$ that computes the output $\\sigma(w^\\top x)$ of the neuron based on the sum of modulated features $w^\\top x$."
      ]
    },
    {
      "cell_type": "markdown",
      "metadata": {
        "id": "tGT8HJ1QStQH"
      },
      "source": [
        "# Review: Logistic Regression as Neuron\n",
        "\n",
        "Logistic regression is a model of the form\n",
        "$$ f(x) = \\sigma(\\theta^\\top x) = \\frac{1}{1 + \\exp(-\\theta^\\top x)}, $$\n",
        "that can be interpreted as a neuron that uses the *sigmoid* as the activation function."
      ]
    },
    {
      "cell_type": "markdown",
      "metadata": {
        "id": "kpZKs56AStQI"
      },
      "source": [
        "# Neural Networks: Intuition\n",
        "\n",
        "A neural network is a directed graph in which a node is a neuron that takes as input the outputs of the neurons that are connected to it.\n",
        "<center>\n",
        "<img width=40% src=\"https://d1zx6djv3kb1v7.cloudfront.net/wp-content/media/2019/05/Hidden-layrs-1-i2tutorials.jpg\">\n",
        "</center>\n",
        "Networks are typically organized in layers."
      ]
    },
    {
      "cell_type": "markdown",
      "metadata": {
        "id": "VRvte9_LStQI"
      },
      "source": [
        "# Neural Networks: Layers\n",
        "\n",
        "A neural network layer is a model $f : \\mathbb{R}^d \\to \\mathbb{R}^p$ that applies $p$ neurons in parallel to an input $x$.\n",
        "$$ f(x) = \\begin{bmatrix}\n",
        "\\sigma(w_1^\\top x) \\\\\n",
        "\\sigma(w_2^\\top x) \\\\\n",
        "\\vdots \\\\\n",
        "\\sigma(w_p^\\top x)\n",
        "\\end{bmatrix}.\n",
        "$$\n",
        "where each $w_k$ is the vector of weights for the $k$-th neuron. We refer to $p$ as the *size* of the layer."
      ]
    },
    {
      "cell_type": "markdown",
      "metadata": {
        "id": "I0HKgHU0StQI"
      },
      "source": [
        "By combining the $w_k$ into one matrix $W$, we can write in a more succinct vectorized form:\n",
        "$$f(x) = \\sigma(W\\cdot x) = \\begin{bmatrix}\n",
        "\\sigma(w_1^\\top x) \\\\\n",
        "\\sigma(w_2^\\top x) \\\\\n",
        "\\vdots \\\\\n",
        "\\sigma(w_p^\\top x)\n",
        "\\end{bmatrix},\n",
        "$$\n",
        "where $\\sigma(W\\cdot x)_k = \\sigma(w_k^\\top x)$ and $W_{kj} = (w_k)_j$."
      ]
    },
    {
      "cell_type": "markdown",
      "metadata": {
        "id": "Kd3aeJiWStQJ"
      },
      "source": [
        "# Neural Networks: Notation\n",
        "\n",
        "A neural network is a model $f : \\mathbb{R}^d \\to \\mathbb{R}$ that consists of a composition of $L$ neural network layers:\n",
        "$$ f(x) = f_L \\circ f_{L-1} \\circ \\ldots f_l \\circ \\ldots f_1 (x). $$\n",
        "The final layer $f_L$ has size one (assuming the neural net has one ouput); intermediary layers $f_l$ can have any number of neurons.\n",
        "\n",
        "The notation $f \\circ g(x)$ denotes the composition $f(g(x))$ of functions."
      ]
    },
    {
      "cell_type": "markdown",
      "metadata": {
        "id": "eclxIe7zStQJ"
      },
      "source": [
        "We can visualize this graphically as follows.\n",
        "\n",
        "<center>\n",
        "<img src=\"https://image.ibb.co/gEmoSQ/mmm_act_function_1.png\" width=50%>\n",
        "</center>    "
      ]
    },
    {
      "cell_type": "markdown",
      "metadata": {
        "id": "j6Q7_sDUStQJ"
      },
      "source": [
        "# Example of a Neural Network\n",
        "\n",
        "Let's implement a small two layer neural net with 3 hidden units.\n"
      ]
    },
    {
      "cell_type": "markdown",
      "metadata": {
        "id": "UkoeyPt7StQJ"
      },
      "source": [
        "This implementation looks as follows."
      ]
    },
    {
      "cell_type": "code",
      "metadata": {
        "id": "w1z_DtYYStQJ"
      },
      "source": [
        "# a two layer network with logistic function as activation\n",
        "class Net():\n",
        "    def __init__(self, x_dim, W_dim):\n",
        "        # weight matrix for layer 1\n",
        "        self.W = np.random.normal(size=(x_dim, W_dim))\n",
        "        # weight matrix for layer 2, also the output layer\n",
        "        self.V = np.random.normal(size=(W_dim, 1))\n",
        "        # activation function\n",
        "        self.afunc = lambda x: 1/(1+np.exp(-x))\n",
        "    \n",
        "    def predict(self, x):\n",
        "        # get output of the first layer\n",
        "        l1 = self.afunc(np.matmul(x, self.W))\n",
        "        # get output of the second layer, also the output layer\n",
        "        out = self.afunc(np.matmul(l1, self.V))\n",
        "        return out"
      ],
      "execution_count": null,
      "outputs": []
    },
    {
      "cell_type": "markdown",
      "metadata": {
        "id": "BOLYGuAyStQJ"
      },
      "source": [
        "Later in this lecture, we will see how to train this model using gradient descent."
      ]
    },
    {
      "cell_type": "markdown",
      "metadata": {
        "id": "Q4GT7RGJStQK"
      },
      "source": [
        "# Types of Neural Network Layers\n",
        "\n",
        "There are many types of neural network layers that can exist. Here are a few:\n",
        "* Ouput layer: normally has one neuron and special activation function that depends on the problem\n",
        "* Input layer: normally, this is just the input vector $x$.\n",
        "* Hidden layer: Any layer between input and output."
      ]
    },
    {
      "cell_type": "markdown",
      "metadata": {
        "id": "nc_fGfvdStQK"
      },
      "source": [
        "* Dense layer: A layer in which every input is connected to every neuron.\n",
        "* Convolutional layer: A layer in which the operation $w^\\top x$ implements a mathematical [convolution](https://en.wikipedia.org/wiki/Convolution).\n",
        "* Recurrent Layer: A layer in which a neuron's output is connected back to the input."
      ]
    },
    {
      "cell_type": "markdown",
      "metadata": {
        "id": "5M2xlj-FStQK"
      },
      "source": [
        "# Algorithm: (Fully-Connected) Neural Network\n",
        "\n",
        "* __Type__: Supervised learning (regression and classification).\n",
        "* __Model family__: Compositions of layers of artificial neurons.\n",
        "* __Objective function__: Any differentiable objective.\n",
        "* __Optimizer__: Gradient descent."
      ]
    },
    {
      "cell_type": "markdown",
      "metadata": {
        "id": "gkl50DeVStQK"
      },
      "source": [
        "# Pros and Cons of Neural Nets\n",
        "\n",
        "Neural networks are very powerful models.\n",
        "* They are flexible, and can approximate any function.\n",
        "* They work well over unstructured inputs like audio or images.\n",
        "* They can achieve state-of-the-art perfomrance.\n",
        "\n",
        "They also have important drawbacks.\n",
        "* They can also be slow and hard to train.\n",
        "* Large neworks require a lot of data."
      ]
    },
    {
      "cell_type": "markdown",
      "metadata": {
        "id": "ibuSvOLBStQK"
      },
      "source": [
        "\n",
        "# Part 3: Backpropagation\n",
        "\n",
        "We have defined what is an artificial neural network.\n",
        "\n",
        "Let's now see how we can train it so that it performs well on given tasks."
      ]
    },
    {
      "cell_type": "markdown",
      "metadata": {
        "id": "lsH2LD_OStQL"
      },
      "source": [
        "# Review: Neural Network Layers\n",
        "\n",
        "A neural network layer is a model $f : \\mathbb{R}^d \\to \\mathbb{R}^p$ that applies $p$ neurons in parallel to an input $x$.\n",
        "$$f(x) = \\sigma(W\\cdot x) = \\begin{bmatrix}\n",
        "\\sigma(w_1^\\top x) \\\\\n",
        "\\sigma(w_2^\\top x) \\\\\n",
        "\\vdots \\\\\n",
        "\\sigma(w_p^\\top x)\n",
        "\\end{bmatrix},\n",
        "$$\n",
        "where each $w_k$ is the vector of weights for the $k$-th neuron and $W_{kj} = (w_k)_j$. We refer to $p$ as the *size* of the layer."
      ]
    },
    {
      "cell_type": "markdown",
      "metadata": {
        "id": "Nrhnmy0_StQL"
      },
      "source": [
        "# Review: Neural Networks\n",
        "\n",
        "A neural network is a model $f : \\mathbb{R} \\to \\mathbb{R}$ that consists of a composition of $L$ neural network layers:\n",
        "$$ f(x) = f_L \\circ f_{L-1} \\circ \\ldots f_1 (x). $$\n",
        "The final layer $f_L$ has size one (assuming the neural net has one ouput); intermediary layers $f_l$ can have any number of neurons.\n",
        "\n",
        "The notation $f \\circ g(x)$ denotes the composition $f(g(x))$ of functions"
      ]
    },
    {
      "cell_type": "markdown",
      "metadata": {
        "id": "NcHqq7LOStQL"
      },
      "source": [
        "We can visualize this graphically as follows.\n",
        "<center>\n",
        "<img width=40% src=\"https://d1zx6djv3kb1v7.cloudfront.net/wp-content/media/2019/05/Hidden-layrs-1-i2tutorials.jpg\" width=100%>"
      ]
    },
    {
      "cell_type": "markdown",
      "metadata": {
        "id": "REKgSoREStQL"
      },
      "source": [
        "# Review: The Gradient\n",
        "\n",
        "The gradient $\\nabla_\\theta f$ further extends the derivative to multivariate functions $f : \\mathbb{R}^d \\to \\mathbb{R}$, and is defined at a point $\\theta$ as\n",
        "$$ \\nabla_\\theta f (\\theta) = \\begin{bmatrix}\n",
        "\\frac{\\partial f(\\theta)}{\\partial \\theta_1} \\\\\n",
        "\\frac{\\partial f(\\theta)}{\\partial \\theta_2} \\\\\n",
        "\\vdots \\\\\n",
        "\\frac{\\partial f(\\theta)}{\\partial \\theta_d}\n",
        "\\end{bmatrix}.$$\n",
        "In other words, the $j$-th entry of the vector $\\nabla_\\theta f (\\theta)$ is the partial derivative $\\frac{\\partial f(\\theta)}{\\partial \\theta_j}$ of $f$ with respect to the $j$-th component of $\\theta$."
      ]
    },
    {
      "cell_type": "markdown",
      "metadata": {
        "id": "UH4ACd3HStQL"
      },
      "source": [
        "# Review: Gradient Descent\n",
        "\n",
        "If we want to optimize an objective $J(\\theta)$, we start with an initial guess $\\theta_0$ for the parameters and repeat the following update until the function is no longer decreasing:\n",
        "$$ \\theta_i := \\theta_{i-1} - \\alpha \\cdot \\nabla_\\theta J(\\theta_{i-1}). $$\n",
        "\n",
        "As code, this method may look as follows:\n",
        "```python\n",
        "theta, theta_prev = random_initialization()\n",
        "while norm(theta - theta_prev) > convergence_threshold:\n",
        "    theta_prev = theta\n",
        "    theta = theta_prev - step_size * gradient(theta_prev)\n",
        "```"
      ]
    },
    {
      "cell_type": "markdown",
      "metadata": {
        "id": "rJfYsHgmStQL"
      },
      "source": [
        "# Backpropagation\n",
        "\n",
        "To apply gradient descent, we need to calculate gradients for every parameter in a neural network model $f$:\n",
        "$$\\frac{\\partial J}{\\partial \\theta_0}, \\frac{\\partial J}{\\partial \\theta_1}, \\cdots, \\frac{\\partial J}{\\partial \\theta_d}$$\n",
        "\n",
        "It might be possible to do it manually when the network is small. But it is nearly impossible and very much error-prone to compute gradients for larger networks."
      ]
    },
    {
      "cell_type": "markdown",
      "metadata": {
        "id": "xDiiz8_UStQL"
      },
      "source": [
        "Backpropagation is a way of calculating gradients efficiently for neural network models with arbitrary number of layers and neurons. \n",
        "\n",
        "The core idea of it is something we are actually very familiar with: the chain rule."
      ]
    },
    {
      "cell_type": "markdown",
      "metadata": {
        "id": "G_NCrZ6RStQM"
      },
      "source": [
        "# Review: Chain Rule of Calculus\n",
        "\n",
        "If we have two differentiable functions $f(x)$ and $g(x)$, and $$F(x) = f \\circ g (x)$$ then the derivative of $F(x)$ is:\n",
        "$$ F^\\prime (x) = f^\\prime (g(x)) \\cdot g^\\prime (x).$$\n",
        "\n",
        "Let $y=f(u)$ and $u=g(x)$, we also have:\n",
        "$$ \\frac{dy}{dx} = \\frac{dy}{du} \\frac{du}{dx}.$$"
      ]
    },
    {
      "cell_type": "markdown",
      "metadata": {
        "id": "1YqvTgM0StQM"
      },
      "source": [
        "# Chain Rule in Neural Nets\n",
        "\n",
        "A neural network is a model $f : \\mathbb{R} \\to \\mathbb{R}$ that consists of a composition of $L$ neural network layers:\n",
        "$$ f(x) = f_L \\circ f_{L-1} \\circ \\ldots f_1 (x). $$\n",
        "\n",
        "Let $y_l$ denote the output $f_l \\circ f_{-1} \\circ f_1(x)$ of layer $l$."
      ]
    },
    {
      "cell_type": "markdown",
      "metadata": {
        "id": "wTvTjISrStQM"
      },
      "source": [
        "The chain rule tells us to compute $\\frac{\\partial J}{\\partial \\theta_l}$ for all parameters $\\theta_l$ in layer $l$. We can break the computation down as:\n",
        "$$ \\frac{\\partial J}{\\partial \\theta_l} = \\frac{\\partial J}{\\partial y_L} \\frac{\\partial y_L}{\\partial y_{L-1}} \\cdots \\frac{\\partial y_{l+1}}{\\partial y_l} \\frac{\\partial y_l}{\\partial \\theta_l}, $$\n",
        "where $y_L, y_{L-1} \\cdots y_l$ are the outputs from each layer."
      ]
    },
    {
      "cell_type": "markdown",
      "metadata": {
        "id": "rO5rITelStQM"
      },
      "source": [
        "Note that the computation of $\\frac{\\partial J}{\\partial y_l}$ can be re-used for computing gradients for all $\\theta$ in layers before $l$. \n",
        "\n",
        "This is the key idea of backpropagation: local gradients computation for each layer can be 'chained' to obtain gradients."
      ]
    },
    {
      "cell_type": "markdown",
      "metadata": {
        "id": "Rh_mtaszStQM"
      },
      "source": [
        "### Animation:\n",
        "\n",
        "<center>\n",
        "<img src=\"https://machinelearningknowledge.ai/wp-content/uploads/2019/10/Backpropagation.gif\">\n"
      ]
    },
    {
      "cell_type": "markdown",
      "metadata": {
        "id": "HCVq2MpIhFOK"
      },
      "source": [
        "#### What happens when we keep on backpropagating our weights?\n",
        "\n",
        "<center>\n",
        "<img src=\"https://thumbs.gfycat.com/UnsteadyUnkemptKangaroo-size_restricted.gif\">\n",
        "</center>\n",
        "\n",
        "\n",
        "#### How about this one? What do you observe from the performance and weight values?\n",
        "\n",
        "<center>\n",
        "<img src=\"https://i.gifer.com/6cBT.gif\">\n",
        "</center>"
      ]
    },
    {
      "cell_type": "markdown",
      "metadata": {
        "id": "fdLo2u0jStQN"
      },
      "source": [
        "# Backprogragation by Hand\n",
        "\n",
        "Let's work out by hand what backpropagation would do on our two layer neural network."
      ]
    },
    {
      "cell_type": "markdown",
      "metadata": {
        "id": "fO7mqDt4StQN"
      },
      "source": [
        "\n",
        "\n",
        "For our two layer fully connected network with sigmoid activation, the network is composed of following functions:\n",
        "\n",
        "$$\\mathbf{h} = \\sigma(\\mathbf{W}^T \\mathbf{x})$$\n",
        "$$y = \\sigma(\\mathbf{V}^T \\mathbf{h}),$$\n",
        "\n",
        "where $\\mathbf{x} = [x_1,x_2]^T, \\mathbf{h} = [h_1,h_2,h_3]^T, \\mathbf{W} \\in \\mathbb{R}^{2\\times3}, \\mathbf{V} \\in \\mathbb{R}^{3\\times1}$, and $\\sigma$ is the sigmoid function."
      ]
    },
    {
      "cell_type": "markdown",
      "metadata": {
        "id": "MaI7nSWHStQN"
      },
      "source": [
        "In our example, we have the following values:\n",
        "\n",
        "$\\mathbf{x} = [5.0,3.0]^T,~~~~\\hat{y} = 1$ means it is positive class.\n",
        "\n",
        "$\\mathbf{W} = \\begin{bmatrix}\n",
        "1.0 & -1.0 & 3.0\\\\ \n",
        "2.0 & 2.0 & -1.0\n",
        "\\end{bmatrix}$\n",
        "\n",
        "$\\mathbf{V} = [0.1,0.5,-0.1]^T$"
      ]
    },
    {
      "cell_type": "markdown",
      "metadata": {
        "id": "AmCkLwm2StQN"
      },
      "source": [
        "\n",
        "We can compute the output of the hidden layer, $\\mathbf{h}$:\n",
        "\n",
        "$h_1 = \\sigma (W_{11} \\cdot x_1 + W_{21} \\cdot x_2) = \\sigma (1.0\\times5.0 + 2.0\\times3.0) = 0.99998329857$"
      ]
    },
    {
      "cell_type": "markdown",
      "metadata": {
        "id": "EsmcXdc6StQN"
      },
      "source": [
        "\n",
        "We can compute the output of the hidden layer, $\\mathbf{h}$:\n",
        "\n",
        "\\begin{align*}\n",
        "h_1 &= \\sigma (W_{11} \\cdot x_1 + W_{21} \\cdot x_2) = \\sigma (1.0\\times5.0 + 2.0\\times3.0) = 0.9999 \\\\\n",
        "h_2 &= \\sigma (W_{12} \\cdot x_1 + W_{22} \\cdot x_2) = \\sigma (-1.0\\times5.0 + 2.0\\times3.0) = 0.7310\n",
        "\\end{align*}"
      ]
    },
    {
      "cell_type": "markdown",
      "metadata": {
        "id": "9lgsU55TStQO"
      },
      "source": [
        "\n",
        "We can compute the output of the hidden layer, $\\mathbf{h}$:\n",
        "\n",
        "\\begin{align*}\n",
        "h_1 &= \\sigma (W_{11} \\cdot x_1 + W_{21} \\cdot x_2) = \\sigma (1.0\\times5.0 + 2.0\\times3.0) = 0.9999 \\\\\n",
        "h_2 &= \\sigma (W_{12} \\cdot x_1 + W_{22} \\cdot x_2) = \\sigma (-1.0\\times5.0 + 2.0\\times3.0) = 0.7310 \\\\\n",
        "h_3 &= \\sigma (W_{13} \\cdot x_1 + W_{23} \\cdot x_2) = \\sigma (3.0\\times5.0 + -1.0\\times3.0) = 0.9999\n",
        "\\end{align*}"
      ]
    },
    {
      "cell_type": "markdown",
      "metadata": {
        "id": "wJclm0PuStQO"
      },
      "source": [
        "\n",
        "Similarly we can get the output of $y$:\n",
        "\n",
        "$y = \\sigma (V_1 \\cdot h_1 + V_2 \\cdot h_2 + V_3 \\cdot h_3) = 0.590378$"
      ]
    },
    {
      "cell_type": "markdown",
      "metadata": {
        "id": "rqesojSTStQO"
      },
      "source": [
        "\n",
        "Next, we compute the binary cross entropy loss with the target label $1$:\n",
        "$J(y, \\hat{y}) = - \\log (y) = 0.52699$\n",
        "\n",
        "We can also compute the gradient (shown in red):\n",
        "$\\frac{\\mathrm{d}J}{\\mathrm{d}{y}} = - 1/y = -1.69383$\n",
        "\n",
        "We are now ready to kick start the backpropagation steps."
      ]
    },
    {
      "cell_type": "markdown",
      "metadata": {
        "id": "oHGpVCAOStQO"
      },
      "source": [
        "\n",
        "We are going to compute the gradients to the weights in the output layer:\n",
        "$$\\frac{\\mathrm{d}J}{\\mathrm{d}{V}} = \\frac{\\mathrm{d}J}{\\mathrm{d}{y}} \\frac{\\mathrm{d}y}{\\mathrm{d}{V}}$$\n",
        "Recall $y = \\sigma(\\mathbf{V}^T \\mathbf{h}) = \\sigma (V_1 \\cdot h_1 + V_2 \\cdot h_2 + V_3 \\cdot h_3)$ and $\\sigma' = \\sigma(1-\\sigma)$:\n",
        "\n",
        "$$\\frac{\\partial y}{\\partial V_1} = y (1-y) h_1,~~\\frac{\\partial y}{\\partial V_2} = y (1-y) h_2,~~\\frac{\\partial y}{\\partial V_3} = y (1-y) h_3$$"
      ]
    },
    {
      "cell_type": "markdown",
      "metadata": {
        "id": "n1iv_iSxStQO"
      },
      "source": [
        "\n",
        "Applying these formulas, we obtain the gradients of $\\mathbf{V}$:\n",
        "\n",
        "\\begin{align*}\n",
        "\\frac{\\partial J}{\\partial V_1} &= \\frac{\\mathrm{d}J}{\\mathrm{d}{y}} \\frac{\\partial y}{\\partial V_1} = -1.69 \\times 0.59 \\times (1-0.59) \\times 0.99998 = -0.41\\\\\n",
        "\\frac{\\partial J}{\\partial V_2} &= \\frac{\\mathrm{d}J}{\\mathrm{d}{y}} \\frac{\\partial y}{\\partial V_2} = -1.69 \\times 0.59 \\times (1-\n",
        "0.59) \\times 0.7311 = -0.30\\\\\n",
        "\\frac{\\partial J}{\\partial V_3} &= \\frac{\\mathrm{d}J}{\\mathrm{d}{y}} \\frac{\\partial y}{\\partial V_3} = -1.69 \\times 0.59 \\times (1-0.59) \\times 0.99999 = -0.41\n",
        "\\end{align*}"
      ]
    },
    {
      "cell_type": "markdown",
      "metadata": {
        "id": "D3tev1hCStQO"
      },
      "source": [
        "\n",
        "\n",
        "Next, we want to compute gradients at the hidden layer:\n",
        "\n",
        "$$\\frac{\\mathrm{d}J}{\\mathrm{d}{h}} = \\frac{\\mathrm{d}J}{\\mathrm{d}{y}} \\frac{\\mathrm{d}y}{\\mathrm{d}{h}}$$"
      ]
    },
    {
      "cell_type": "markdown",
      "metadata": {
        "id": "HlcT8jO7StQO"
      },
      "source": [
        "\n",
        "Similarly to the previous slide:\n",
        "\\begin{align*}\n",
        "\\frac{\\partial J}{\\partial h_1} &= \\frac{\\mathrm{d}J}{\\mathrm{d}{y}} \\frac{\\partial y}{\\partial h_1} = -1.69 \\times 0.59 \\times (1-0.59) \\times 0.1 = -0.04096\\\\\n",
        "\\frac{\\partial J}{\\partial h_2} &= \\frac{\\mathrm{d}J}{\\mathrm{d}{y}} \\frac{\\partial y}{\\partial h_2} = -1.69 \\times 0.59 \\times (1-\n",
        "0.59) \\times 0.5 = -0.2048\\\\\n",
        "\\frac{\\partial J}{\\partial h_3} &= \\frac{\\mathrm{d}J}{\\mathrm{d}{y}} \\frac{\\partial y}{\\partial h_3} = -1.69 \\times 0.59 \\times (1-0.59) \\times -0.1 = 0.04096\n",
        "\\end{align*}\n",
        "<!-- From now on we can ignore the output layer, as we have everything we need to compute gradients in layers ahead. -->"
      ]
    },
    {
      "cell_type": "markdown",
      "metadata": {
        "id": "apX6M51rStQO"
      },
      "source": [
        "\n",
        "Since we have another linear layer with sigmoid activation, the way we compute gradients will be the same as in the output layer.\n",
        "\n",
        "\\begin{align*}\n",
        "\\frac{\\partial J}{\\partial h_1} \\frac{\\partial h_1}{\\partial W_{11}} &= -0.041 \\times 0.99998 \\times (1-0.99998) \\times 5 = -3\\times10^{-6} \\\\\n",
        "\\frac{\\mathrm{d}J}{\\mathrm{d}{h_1}} \\frac{\\partial h_1}{\\partial W_{12}} &= -0.041 \\times 0.99998 \\times (1-\n",
        "0.99998) \\times 3 = -2\\times10^{-6}\n",
        "\\end{align*}"
      ]
    },
    {
      "cell_type": "markdown",
      "metadata": {
        "id": "9ObwTgtpStQP"
      },
      "source": [
        "\n",
        "We can compute the rest the same way.\n",
        "\n",
        "Note the gradients to the weights connecting to $h_2$ are larger in magnitude than others. "
      ]
    },
    {
      "cell_type": "markdown",
      "metadata": {
        "id": "tsnc-gaNStQP"
      },
      "source": [
        "\n",
        "\n",
        "And now we have the gradients to all the learnable weights in this two layer network and we can tune the weights by gradient descenet.\n",
        "\n",
        "The gradients tell us how much to change for each weight so that the loss will become smaller. "
      ]
    },
    {
      "cell_type": "markdown",
      "metadata": {
        "id": "fqaAqgPYStQP"
      },
      "source": [
        "Now let's implement backprop with the simple neural network model we defined earlier.\n",
        "\n",
        "We start by implementing the building block of our network: a linear layer with sigmoid activation."
      ]
    },
    {
      "cell_type": "code",
      "metadata": {
        "id": "auyPL6M-StQP"
      },
      "source": [
        "import numpy as np\n",
        "\n",
        "# a single linear layer with sigmoid activation\n",
        "class LinearSigmoidLayer():\n",
        "    def __init__(self, in_dim, out_dim):\n",
        "        self.W = np.random.normal(size=(in_dim,out_dim))\n",
        "        self.W_grad = np.zeros_like(self.W)\n",
        "        \n",
        "        self.afunc = lambda x: 1. / (1. + np.exp(-x))\n",
        "    \n",
        "    # forward function to get output\n",
        "    def forward(self, x):\n",
        "        Wx = np.matmul(x, self.W)\n",
        "        self.y = self.afunc(Wx)\n",
        "        self.x = x\n",
        "        return self.y        \n",
        "        \n",
        "    # backward function to compute gradients\n",
        "    def backward(self, grad_out):  \n",
        "        self.W_grad = np.matmul(\n",
        "            self.x.transpose(), \n",
        "            self.y * (1-self.y) * grad_out,\n",
        "            )\n",
        "        grad_in = np.matmul(\n",
        "            self.y * (1-self.y) * grad_out,\n",
        "            self.W.transpose()\n",
        "            )\n",
        "        \n",
        "        return grad_in"
      ],
      "execution_count": null,
      "outputs": []
    },
    {
      "cell_type": "markdown",
      "metadata": {
        "id": "eS0AfVB-StQP"
      },
      "source": [
        "Then we can stack the single layers to construct a two layer network."
      ]
    },
    {
      "cell_type": "code",
      "metadata": {
        "id": "kzmreXwQStQP"
      },
      "source": [
        "# a two layer network with logistic function as activation\n",
        "class Net():\n",
        "    def __init__(self, x_dim, W_dim):\n",
        "        self.l1 = LinearSigmoidLayer(x_dim, W_dim)\n",
        "        self.l2 = LinearSigmoidLayer(W_dim, 1)\n",
        "    \n",
        "    # get output\n",
        "    def predict(self, x):\n",
        "        h = self.l1.forward(x)\n",
        "        self.y = self.l2.forward(h)\n",
        "        return self.y\n",
        "    \n",
        "    # backprop\n",
        "    def backward(self, label):\n",
        "        # binary cross entropy loss, and gradients\n",
        "        if label == 1:\n",
        "            J = -1*np.log(self.y)\n",
        "            dJ = -1/self.y\n",
        "        else:\n",
        "            J = -1*np.log(1-self.y)\n",
        "            dJ = 1/(1-self.y)\n",
        "            \n",
        "        # back propagation\n",
        "        dJdh = self.l2.backward(dJ) # output --> hidden\n",
        "        dJdx = self.l1.backward(dJdh) # hidden --> input\n",
        "        return J\n",
        "    \n",
        "    # update weights according to gradients\n",
        "    def grad_step(self, lr=1e-4):\n",
        "        self.l1.W -= lr*self.l1.W_grad\n",
        "        self.l2.W -= lr*self.l2.W_grad     "
      ],
      "execution_count": null,
      "outputs": []
    },
    {
      "cell_type": "markdown",
      "metadata": {
        "id": "UW4ZRO7JStQP"
      },
      "source": [
        "We can run with our previous example to check if the results are consistent with our manual computation."
      ]
    },
    {
      "cell_type": "code",
      "metadata": {
        "colab": {
          "base_uri": "https://localhost:8080/"
        },
        "id": "z8HECNygStQQ",
        "outputId": "7c1f940e-5bc4-436b-a695-2e4d2131c9e6"
      },
      "source": [
        "model = Net(2, 3)\n",
        "model.l1.W = np.array([[1.0,-1.0,3.0],[2.0,2.0,-1.0]])\n",
        "model.l2.W = np.array([[0.1],[0.5],[-0.1]])\n",
        "\n",
        "x = np.array([5.0, 3.0])[np.newaxis,...]\n",
        "x_label = 1\n",
        "\n",
        "# forward\n",
        "out = model.predict(x)\n",
        "\n",
        "# backward\n",
        "loss = model.backward(label=x_label)\n",
        "\n",
        "print('loss: {}'.format(loss))\n",
        "print('W grad: {}'.format(model.l1.W_grad))\n",
        "print('V grad: {}'.format(model.l2.W_grad))"
      ],
      "execution_count": null,
      "outputs": [
        {
          "output_type": "stream",
          "name": "stdout",
          "text": [
            "loss: [[0.52699227]]\n",
            "W grad: [[-3.42057777e-06 -2.01341432e-01  1.25838681e-06]\n",
            " [-2.05234666e-06 -1.20804859e-01  7.55032084e-07]]\n",
            "V grad: [[-0.40961516]\n",
            " [-0.29945768]\n",
            " [-0.40961948]]\n"
          ]
        }
      ]
    },
    {
      "cell_type": "markdown",
      "metadata": {
        "id": "j3yksoWxStQQ"
      },
      "source": [
        "Another sanity check is to perform gradient descent on the single sample input and see if we can achieve close to zero loss.\n",
        "\n",
        "You can try to change the target label below to see the network is able to adapt in either case."
      ]
    },
    {
      "cell_type": "code",
      "metadata": {
        "colab": {
          "base_uri": "https://localhost:8080/",
          "height": 285
        },
        "id": "nMclHaOPStQQ",
        "outputId": "bce2f4b9-bdd7-4858-b546-e92679672095"
      },
      "source": [
        "## gradient descent\n",
        "loss = []\n",
        "score = []\n",
        "for i in range(100):\n",
        "    out = model.predict(x)\n",
        "    loss.append(model.backward(label=1)) # 1 for positive, 0 for negative\n",
        "    model.grad_step(lr=1e-1)\n",
        "    score.append(out)\n",
        "    \n",
        "import matplotlib.pyplot as plt\n",
        "plt.plot(np.array(loss).squeeze(),'-',label='loss')\n",
        "plt.plot(np.array(score).squeeze(),'.',label='score')\n",
        "plt.legend(loc='center right')"
      ],
      "execution_count": null,
      "outputs": [
        {
          "output_type": "execute_result",
          "data": {
            "text/plain": [
              "<matplotlib.legend.Legend at 0x7f0febe07e50>"
            ]
          },
          "metadata": {},
          "execution_count": 15
        },
        {
          "output_type": "display_data",
          "data": {
            "image/png": "[encoded data removed]",
            "text/plain": [
              "<Figure size 864x288 with 1 Axes>"
            ]
          },
          "metadata": {
            "needs_background": "light"
          }
        }
      ]
    },
    {
      "cell_type": "markdown",
      "metadata": {
        "id": "8wCEp_OxStQQ"
      },
      "source": [
        "# Summary\n",
        "\n",
        "* Neural networks are powerful models that can approximate any function.\n",
        "* They are trained using gradient descent.\n",
        "* In order to compute gradients, we use an efficient algorithm called backpropagation."
      ]
    }
  ]
}